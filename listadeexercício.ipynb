{
  "nbformat": 4,
  "nbformat_minor": 0,
  "metadata": {
    "colab": {
      "provenance": [],
      "authorship_tag": "ABX9TyPvCTP+IKpEaJuU4779Xt6c",
      "include_colab_link": true
    },
    "kernelspec": {
      "name": "python3",
      "display_name": "Python 3"
    },
    "language_info": {
      "name": "python"
    }
  },
  "cells": [
    {
      "cell_type": "markdown",
      "metadata": {
        "id": "view-in-github",
        "colab_type": "text"
      },
      "source": [
        "<a href=\"https://colab.research.google.com/github/ItaloDias17/Atividade-Loop-For-/blob/main/listadeexerc%C3%ADcio.ipynb\" target=\"_parent\"><img src=\"https://colab.research.google.com/assets/colab-badge.svg\" alt=\"Open In Colab\"/></a>"
      ]
    },
    {
      "cell_type": "code",
      "execution_count": null,
      "metadata": {
        "id": "hfQnFAS1lQIi"
      },
      "outputs": [],
      "source": [
        "# 1 - Crie uma lista chamada livros contendo 3 livros diferentes e exiba a lista na tela.\n",
        "livros = [\"O poder do hábito\", \"O Senhor dos Anéis\", \"Harry Potter\"]\n",
        "print(livros)\n",
        "\n",
        "# 2 - Usando a lista livros, exiba apenas o primeiro e o último elemento.\n",
        "print(livros[0], livros[-1])\n",
        "\n",
        "# 3 -  Adicione mais dois livros à lista livros usando o método append() e exiba a lista atualizada.\n",
        "livros.append(\"Bíblia\")\n",
        "livros.append(\"A cabana\")\n",
        "print(livros)\n",
        "\n",
        "# 4 - Insira o livro \"Duna\" na segunda posição da lista livros usando insert()\n",
        "livros.insert(1, \"Duna\")\n",
        "print(livros)\n",
        "\n",
        "# 5 - Remova o livro \"Silêncio dos inocentes\" da lista usando remove(). Se ele não existir, exiba a mensagem \"Livro não encontrado\".\n",
        "if \"Silêncio dos inocentes\" in livros:\n",
        "    livros.remove(\"Silêncio dos inocentes\")\n",
        "else:\n",
        "    print(\"Livro não encontrado\")\n",
        "print(livros)\n",
        "\n",
        "# 6 - Crie uma lista chamada números com os valores [1, 2, 3, 2, 4, 2, 5]. Mostre quantas vezes o número 2 aparece na lista.\n",
        "numeros = [1, 2, 3, 2, 4, 2, 5]\n",
        "print(\"Quantidade de 2:\", numeros.count(2))\n",
        "\n",
        "# 7 - Percorra a lista livros e exiba cada livro com a frase: \"O livro <nome do livro> é interessante\"\n",
        "for livro in livros:\n",
        "    print(f\"O livro {livro} é interessante\")\n",
        "\n",
        "# 8 - Percorra a lista livros e exiba cada livro com a frase: \"O livro <nome do livro> é interessante\"\n",
        "idades = [12, 18, 25, 14, 30]\n",
        "for idade in idades:\n",
        "    if idade >= 18:\n",
        "        print(idade)\n",
        "\n",
        "# 9 - Crie uma lista valores = [10, 20, 30, 40]. Use um laço for para calcular manualmente a soma de todos os valores.\n",
        "valores = [10, 20, 30, 40]\n",
        "soma = 0\n",
        "for v in valores:\n",
        "    soma += v\n",
        "print(\"Soma =\", soma)\n",
        "\n",
        "# 10 - Use input para receber 3 notas de dois alunos. As notas de cada aluno precisam ser armazenadas em uma lista separada que deve ser armazenada dentro de outra lista chamada notas.\n",
        "notas = []\n",
        "for aluno in range(2):\n",
        "    notas_aluno = []\n",
        "    for i in range(3):\n",
        "        nota = float(input(f\"Digite a {i+1}ª nota do aluno {aluno+1}: \"))\n",
        "        notas_aluno.append(nota)\n",
        "    notas.append(notas_aluno)\n",
        "\n",
        "# Média de cada aluno\n",
        "for i, aluno_notas in enumerate(notas):\n",
        "    media = sum(aluno_notas) / len(aluno_notas)\n",
        "    print(f\"Média do aluno {i+1}: {media:.2f}\")\n",
        "\n",
        "# 11 - Use input para receber 3 notas de dois alunos. As notas de cada aluno precisam ser armazenadas em uma lista separada que deve ser armazenada dentro de outra lista chamada notas.\n",
        "import numpy as np\n",
        "\n",
        "tabuleiro = [[\"[ ]\" for _ in range(8)] for _ in range(8)]\n",
        "\n",
        "# Peças pretas\n",
        "tabuleiro[0] = [\"tor\", \"cav\", \"bis\", \"rai\", \"rei\", \"bis\", \"cav\", \"tor\"]\n",
        "tabuleiro[1] = [\"pea\"] * 8\n",
        "\n",
        "# Peças brancas\n",
        "tabuleiro[6] = [\"pea\"] * 8\n",
        "tabuleiro[7] = [\"tor\", \"cav\", \"bis\", \"rai\", \"rei\", \"bis\", \"cav\", \"tor\"]\n",
        "\n",
        "# Imprimir tabuleiro\n",
        "matriz = np.array(tabuleiro)\n",
        "print(matriz)"
      ]
    }
  ]
}